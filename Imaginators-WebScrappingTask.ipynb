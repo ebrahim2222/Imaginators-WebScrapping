{
 "cells": [
  {
   "cell_type": "code",
   "execution_count": 1,
   "id": "5caa14e2",
   "metadata": {},
   "outputs": [],
   "source": [
    "import requests\n",
    "from bs4 import BeautifulSoup\n",
    "import json"
   ]
  },
  {
   "cell_type": "markdown",
   "id": "f8b6b803",
   "metadata": {},
   "source": [
    "# Amazon"
   ]
  },
  {
   "cell_type": "code",
   "execution_count": 2,
   "id": "fe87ca5d",
   "metadata": {},
   "outputs": [],
   "source": [
    "# url definition\n",
    "url = \"https://www.amazon.eg/dp/B0BDK4GJXC\"\n",
    "\n",
    "# Request\n",
    "r1 = requests.get(url)\n",
    "r1.status_code\n",
    "\n",
    "# We'll save in coverpage the cover page content\n",
    "coverpage = r1.content\n",
    "\n",
    "# Soup creation\n",
    "soup1 = BeautifulSoup(coverpage, 'lxml') #parser\n",
    "\n",
    "# News identification\n",
    "#coverpage_news = soup1.find_all('div', class_=\"css-4svvz1 ekkqrpp0\")\n",
    "x = soup1.find(id=\"ppd\")\n"
   ]
  },
  {
   "cell_type": "code",
   "execution_count": 3,
   "id": "af44ce97",
   "metadata": {},
   "outputs": [
    {
     "data": {
      "text/plain": [
       "<div class=\"a-section a-spacing-none\" id=\"titleSection\"> <h1 class=\"a-size-large a-spacing-none\" id=\"title\"> <span class=\"a-size-large product-title-word-break\" id=\"productTitle\">        ابل اير بودز برو (الجيل الثاني) ​​​​​​       </span> </h1> <div class=\"a-section a-spacing-none expand aok-hidden\" id=\"expandTitleToggle\"></div> </div>"
      ]
     },
     "execution_count": 3,
     "metadata": {},
     "output_type": "execute_result"
    }
   ],
   "source": [
    "title = x.find(id='titleSection')\n",
    "#' '.join(title.get_text().strip().split()[:6])\n",
    "title"
   ]
  },
  {
   "cell_type": "code",
   "execution_count": 33,
   "id": "25cd634d",
   "metadata": {},
   "outputs": [
    {
     "data": {
      "text/plain": [
       "10100.0"
      ]
     },
     "execution_count": 33,
     "metadata": {},
     "output_type": "execute_result"
    }
   ],
   "source": [
    "value = x.find(dir=\"ltr\")\n",
    "price_amazon = value.find('span', class_=\"a-price-whole\").get_text().split('.')[0]\n",
    "#' '.join(price.get_text().strip().split()[:6])\n",
    "price_amazon = float(price_amazon.replace(',',''))\n",
    "price_amazon"
   ]
  },
  {
   "cell_type": "markdown",
   "id": "e4083647",
   "metadata": {},
   "source": [
    "# Jumia"
   ]
  },
  {
   "cell_type": "code",
   "execution_count": 5,
   "id": "99f135bb",
   "metadata": {},
   "outputs": [],
   "source": [
    "# url definition Jumia\n",
    "url = \"https://www.jumia.com.eg/apple-airpods-pro-2nd-generation-white-31064038.html\"\n",
    "\n",
    "# Request\n",
    "r1 = requests.get(url)\n",
    "r1.status_code\n",
    "\n",
    "# We'll save in coverpage the cover page content\n",
    "coverpage = r1.content\n",
    "\n",
    "# Soup creation\n",
    "soup2 = BeautifulSoup(coverpage, 'lxml') #parser\n",
    "\n",
    "# News identification\n",
    "#coverpage_news = soup1.find_all('div', class_=\"css-4svvz1 ekkqrpp0\")\n",
    "jumia = soup2.find_all('div', class_=\"row\")\n",
    "img_div = jumia[2].find(id='imgs')\n"
   ]
  },
  {
   "cell_type": "code",
   "execution_count": null,
   "id": "28b7b45e",
   "metadata": {},
   "outputs": [],
   "source": []
  },
  {
   "cell_type": "code",
   "execution_count": 6,
   "id": "2c7f7f86",
   "metadata": {},
   "outputs": [
    {
     "data": {
      "text/plain": [
       "'https://eg.jumia.is/unsafe/fit-in/500x500/filters:fill(white)/product/83/046013/1.jpg?3670'"
      ]
     },
     "execution_count": 6,
     "metadata": {},
     "output_type": "execute_result"
    }
   ],
   "source": [
    "img = img_div.find_all('img')[0]['data-src']\n",
    "img"
   ]
  },
  {
   "cell_type": "code",
   "execution_count": 7,
   "id": "4fb0332f",
   "metadata": {},
   "outputs": [
    {
     "data": {
      "text/plain": [
       "'AirPods Pro (2nd Generation)'"
      ]
     },
     "execution_count": 7,
     "metadata": {},
     "output_type": "execute_result"
    }
   ],
   "source": [
    "title = img_div.find_all('img')[0]['alt'].split('-')[2].strip()\n",
    "title"
   ]
  },
  {
   "cell_type": "code",
   "execution_count": 8,
   "id": "98a11ede",
   "metadata": {},
   "outputs": [
    {
     "data": {
      "text/plain": [
       "['Apple']"
      ]
     },
     "execution_count": 8,
     "metadata": {},
     "output_type": "execute_result"
    }
   ],
   "source": [
    "brand = [img_div.find_all('img')[0]['alt'].split('-')[1]]\n",
    "brand"
   ]
  },
  {
   "cell_type": "code",
   "execution_count": 9,
   "id": "b4b1b202",
   "metadata": {},
   "outputs": [
    {
     "data": {
      "text/plain": [
       "['AirPods', 'Pro', '(2nd']"
      ]
     },
     "execution_count": 9,
     "metadata": {},
     "output_type": "execute_result"
    }
   ],
   "source": [
    "spec = title.split()[:3]\n",
    "spec"
   ]
  },
  {
   "cell_type": "code",
   "execution_count": 10,
   "id": "dfe68f04",
   "metadata": {},
   "outputs": [
    {
     "data": {
      "text/plain": [
       "['Apple', 'AirPods', 'Pro', '(2nd']"
      ]
     },
     "execution_count": 10,
     "metadata": {},
     "output_type": "execute_result"
    }
   ],
   "source": [
    "keyWords = brand + spec\n",
    "keyWords"
   ]
  },
  {
   "cell_type": "code",
   "execution_count": 34,
   "id": "413bd5c0",
   "metadata": {},
   "outputs": [
    {
     "data": {
      "text/plain": [
       "9999.0"
      ]
     },
     "execution_count": 34,
     "metadata": {},
     "output_type": "execute_result"
    }
   ],
   "source": [
    "value = jumia[2].find('span', class_='-b -ltr -tal -fs24').get_text().split()\n",
    "price_jumia = value[1]\n",
    "price_jumia = float(price_jumia.replace(',',''))\n",
    "\n",
    "price_jumia"
   ]
  },
  {
   "cell_type": "code",
   "execution_count": 12,
   "id": "b80e890f",
   "metadata": {},
   "outputs": [
    {
     "data": {
      "text/plain": [
       "'EGP'"
      ]
     },
     "execution_count": 12,
     "metadata": {},
     "output_type": "execute_result"
    }
   ],
   "source": [
    "currency = value[0]\n",
    "currency"
   ]
  },
  {
   "cell_type": "code",
   "execution_count": 13,
   "id": "ddbc6fa0",
   "metadata": {},
   "outputs": [],
   "source": [
    "available = 1"
   ]
  },
  {
   "cell_type": "code",
   "execution_count": 29,
   "id": "55568cd4",
   "metadata": {},
   "outputs": [
    {
     "data": {
      "text/plain": [
       "False"
      ]
     },
     "execution_count": 29,
     "metadata": {},
     "output_type": "execute_result"
    }
   ],
   "source": [
    "price_amazon > price_jumia"
   ]
  },
  {
   "cell_type": "markdown",
   "id": "f5ce3449",
   "metadata": {},
   "source": [
    "# Dubai Phone"
   ]
  },
  {
   "cell_type": "code",
   "execution_count": 15,
   "id": "637ea3ef",
   "metadata": {},
   "outputs": [
    {
     "data": {
      "text/plain": [
       "'https://www.dubaiphone.net/web/image/website/1/logo/dubai%20phone?unique=b54c637'"
      ]
     },
     "execution_count": 15,
     "metadata": {},
     "output_type": "execute_result"
    }
   ],
   "source": [
    "\n",
    "# url definition\n",
    "url = \"https://www.dubaiphone.net/en/\"\n",
    "\n",
    "# Request\n",
    "r1 = requests.get(url)\n",
    "r1.status_code\n",
    "\n",
    "# We'll save in coverpage the cover page content\n",
    "coverpage = r1.content\n",
    "\n",
    "# Soup creation\n",
    "soup3 = BeautifulSoup(coverpage, 'lxml') #parser\n",
    "\n",
    "# News identification\n",
    "#coverpage_news = soup1.find_all('div', class_=\"css-4svvz1 ekkqrpp0\")\n",
    "logo = soup3.find(id=\"top\")\n",
    "logoDubai = 'https://www.dubaiphone.net' + logo.find('img')['src']\n",
    "logoDubai"
   ]
  },
  {
   "cell_type": "code",
   "execution_count": 35,
   "id": "aa3f9e4f",
   "metadata": {},
   "outputs": [],
   "source": [
    "# Dubai Phone\n",
    "\n",
    "price_dubai = 8400.0"
   ]
  },
  {
   "cell_type": "code",
   "execution_count": null,
   "id": "220c0f6b",
   "metadata": {},
   "outputs": [],
   "source": []
  },
  {
   "cell_type": "code",
   "execution_count": 36,
   "id": "b85cc9a2",
   "metadata": {},
   "outputs": [
    {
     "data": {
      "text/plain": [
       "{'Title': 'AirPods Pro (2nd Generation)',\n",
       " 'Image': 'https://eg.jumia.is/unsafe/fit-in/500x500/filters:fill(white)/product/83/046013/1.jpg?3670',\n",
       " 'kWords': ['Apple', 'AirPods', 'Pro', '(2nd'],\n",
       " 'Sites': [{'Name': 'Amazon',\n",
       "   'Currency': 'EGP',\n",
       "   'Price': 10100.0,\n",
       "   'av': 1,\n",
       "   'logo': 'https://www.dubaiphone.net/web/image/website/1/logo/dubai%20phone?unique=b54c637'},\n",
       "  {'Name': 'Jumia',\n",
       "   'Currency': 'EGP',\n",
       "   'Price': 9999.0,\n",
       "   'av': 1,\n",
       "   'logo': 'https://www.dubaiphone.net/web/image/website/1/logo/dubai%20phone?unique=b54c637'},\n",
       "  {'Name': 'Dubai',\n",
       "   'Currency': 'EGP',\n",
       "   'Price': 8400.0,\n",
       "   'av': 1,\n",
       "   'logo': 'https://www.dubaiphone.net/web/image/website/1/logo/dubai%20phone?unique=b54c637'}]}"
      ]
     },
     "execution_count": 36,
     "metadata": {},
     "output_type": "execute_result"
    }
   ],
   "source": [
    "task = {\n",
    "    'Title': title,\n",
    "    'Image': img,\n",
    "    'kWords': keyWords,\n",
    "    'Sites': [{\n",
    "        'Name': 'Amazon',\n",
    "        'Currency': currency,\n",
    "        'Price':price_amazon,\n",
    "        'av':1,\n",
    "        'logo':logoDubai\n",
    "    }, \n",
    "    {\n",
    "        'Name': 'Jumia',\n",
    "        'Currency': currency,\n",
    "        'Price':price_jumia,\n",
    "        'av':1,\n",
    "        'logo':logoDubai\n",
    "    },\n",
    "    {\n",
    "        'Name': 'Dubai',\n",
    "        'Currency': currency,\n",
    "        'Price':price_dubai,\n",
    "        'av':1,\n",
    "        'logo':logoDubai\n",
    "    }]\n",
    "}\n",
    "task"
   ]
  },
  {
   "cell_type": "code",
   "execution_count": 38,
   "id": "b14cbbc6",
   "metadata": {},
   "outputs": [
    {
     "data": {
      "text/plain": [
       "{'Title': 'AirPods Pro (2nd Generation)',\n",
       " 'Image': 'https://eg.jumia.is/unsafe/fit-in/500x500/filters:fill(white)/product/83/046013/1.jpg?3670',\n",
       " 'kWords': ['Apple', 'AirPods', 'Pro', '(2nd'],\n",
       " 'Sites': [{'Name': 'Dubai',\n",
       "   'Currency': 'EGP',\n",
       "   'Price': 8400.0,\n",
       "   'av': 1,\n",
       "   'logo': 'https://www.dubaiphone.net/web/image/website/1/logo/dubai%20phone?unique=b54c637'},\n",
       "  {'Name': 'Jumia',\n",
       "   'Currency': 'EGP',\n",
       "   'Price': 9999.0,\n",
       "   'av': 1,\n",
       "   'logo': 'https://www.dubaiphone.net/web/image/website/1/logo/dubai%20phone?unique=b54c637'},\n",
       "  {'Name': 'Amazon',\n",
       "   'Currency': 'EGP',\n",
       "   'Price': 10100.0,\n",
       "   'av': 1,\n",
       "   'logo': 'https://www.dubaiphone.net/web/image/website/1/logo/dubai%20phone?unique=b54c637'}]}"
      ]
     },
     "execution_count": 38,
     "metadata": {},
     "output_type": "execute_result"
    }
   ],
   "source": [
    "from operator import itemgetter\n",
    "newlist = sorted(task['Sites'], key=itemgetter('Price')) \n",
    "task['Sites'] = newlist\n",
    "task"
   ]
  },
  {
   "cell_type": "code",
   "execution_count": 39,
   "id": "bbecd276",
   "metadata": {},
   "outputs": [
    {
     "name": "stdout",
     "output_type": "stream",
     "text": [
      "{\n",
      "    \"Title\": \"AirPods Pro (2nd Generation)\",\n",
      "    \"Image\": \"https://eg.jumia.is/unsafe/fit-in/500x500/filters:fill(white)/product/83/046013/1.jpg?3670\",\n",
      "    \"kWords\": [\n",
      "        \"Apple\",\n",
      "        \"AirPods\",\n",
      "        \"Pro\",\n",
      "        \"(2nd\"\n",
      "    ],\n",
      "    \"Sites\": [\n",
      "        {\n",
      "            \"Name\": \"Dubai\",\n",
      "            \"Currency\": \"EGP\",\n",
      "            \"Price\": 8400.0,\n",
      "            \"av\": 1,\n",
      "            \"logo\": \"https://www.dubaiphone.net/web/image/website/1/logo/dubai%20phone?unique=b54c637\"\n",
      "        },\n",
      "        {\n",
      "            \"Name\": \"Jumia\",\n",
      "            \"Currency\": \"EGP\",\n",
      "            \"Price\": 9999.0,\n",
      "            \"av\": 1,\n",
      "            \"logo\": \"https://www.dubaiphone.net/web/image/website/1/logo/dubai%20phone?unique=b54c637\"\n",
      "        },\n",
      "        {\n",
      "            \"Name\": \"Amazon\",\n",
      "            \"Currency\": \"EGP\",\n",
      "            \"Price\": 10100.0,\n",
      "            \"av\": 1,\n",
      "            \"logo\": \"https://www.dubaiphone.net/web/image/website/1/logo/dubai%20phone?unique=b54c637\"\n",
      "        }\n",
      "    ]\n",
      "}\n"
     ]
    }
   ],
   "source": [
    "# Serializing json  \n",
    "json_object = json.dumps(task, indent = 4) \n",
    "print(json_object)"
   ]
  },
  {
   "cell_type": "code",
   "execution_count": 40,
   "id": "1b7049dc",
   "metadata": {},
   "outputs": [],
   "source": [
    "with open('result.json', 'w') as fp:\n",
    "    json.dump(task, fp)"
   ]
  },
  {
   "cell_type": "code",
   "execution_count": null,
   "id": "fd5c66e6",
   "metadata": {},
   "outputs": [],
   "source": []
  }
 ],
 "metadata": {
  "kernelspec": {
   "display_name": "Python 3 (ipykernel)",
   "language": "python",
   "name": "python3"
  },
  "language_info": {
   "codemirror_mode": {
    "name": "ipython",
    "version": 3
   },
   "file_extension": ".py",
   "mimetype": "text/x-python",
   "name": "python",
   "nbconvert_exporter": "python",
   "pygments_lexer": "ipython3",
   "version": "3.9.12"
  }
 },
 "nbformat": 4,
 "nbformat_minor": 5
}
